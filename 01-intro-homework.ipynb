{
 "cells": [
  {
   "cell_type": "code",
   "execution_count": 1,
   "id": "0a80d206-9271-491c-8113-751c68fb102b",
   "metadata": {},
   "outputs": [],
   "source": [
    "import pandas as pd\n",
    "import numpy as np"
   ]
  },
  {
   "cell_type": "code",
   "execution_count": 2,
   "id": "2943ccf1-53d8-45dd-bc76-9727dced5258",
   "metadata": {},
   "outputs": [],
   "source": [
    "df = pd.read_parquet(\"yellow_tripdata_2022-01.parquet\")"
   ]
  },
  {
   "cell_type": "code",
   "execution_count": 3,
   "id": "aba05b82-f513-4050-99c1-f11161687e9a",
   "metadata": {},
   "outputs": [
    {
     "data": {
      "text/plain": [
       "(2463931, 19)"
      ]
     },
     "execution_count": 3,
     "metadata": {},
     "output_type": "execute_result"
    }
   ],
   "source": [
    "df.shape"
   ]
  },
  {
   "cell_type": "code",
   "execution_count": 4,
   "id": "819a10e0-2bdd-4c49-8a99-6d72509ad370",
   "metadata": {},
   "outputs": [],
   "source": [
    "import datetime\n",
    "\n",
    "duration = (df.tpep_dropoff_datetime - df.tpep_pickup_datetime)"
   ]
  },
  {
   "cell_type": "code",
   "execution_count": 5,
   "id": "5d6c86e4-76d0-4415-b25b-d82ec0d29fa9",
   "metadata": {},
   "outputs": [],
   "source": [
    "duration = duration.astype('timedelta64[m]')"
   ]
  },
  {
   "cell_type": "code",
   "execution_count": 6,
   "id": "3b98f836-9acf-4f24-93cd-bb4c5b3d125e",
   "metadata": {},
   "outputs": [
    {
     "data": {
      "text/plain": [
       "46.44561443320887"
      ]
     },
     "execution_count": 6,
     "metadata": {},
     "output_type": "execute_result"
    }
   ],
   "source": [
    "duration.std()"
   ]
  },
  {
   "cell_type": "code",
   "execution_count": 7,
   "id": "9078dfb6-476a-4ba1-8309-6df7dc306541",
   "metadata": {},
   "outputs": [
    {
     "data": {
      "text/plain": [
       "(2423325,)"
      ]
     },
     "execution_count": 7,
     "metadata": {},
     "output_type": "execute_result"
    }
   ],
   "source": [
    "duration[(duration >= 1)&(duration<=60)].shape"
   ]
  },
  {
   "cell_type": "code",
   "execution_count": 8,
   "id": "d5a4f70e-4a3e-4f00-9b84-dd5948d1618e",
   "metadata": {},
   "outputs": [
    {
     "data": {
      "text/plain": [
       "(2463931,)"
      ]
     },
     "execution_count": 8,
     "metadata": {},
     "output_type": "execute_result"
    }
   ],
   "source": [
    "duration.shape"
   ]
  },
  {
   "cell_type": "code",
   "execution_count": 9,
   "id": "e89bc304-ce0e-4d7f-b6f8-e6fd2062d20a",
   "metadata": {},
   "outputs": [
    {
     "data": {
      "text/plain": [
       "0.9835198307095451"
      ]
     },
     "execution_count": 9,
     "metadata": {},
     "output_type": "execute_result"
    }
   ],
   "source": [
    "2423325/2463931"
   ]
  },
  {
   "cell_type": "code",
   "execution_count": 10,
   "id": "37489e29-d707-4af6-8bd2-584763f46665",
   "metadata": {},
   "outputs": [],
   "source": [
    "df[\"duration\"] = duration"
   ]
  },
  {
   "cell_type": "code",
   "execution_count": 11,
   "id": "20a85b91-e069-434d-801a-b0a6aa9aa224",
   "metadata": {},
   "outputs": [],
   "source": [
    "duration_no_outliers = df[(df.duration >= 1)&(df.duration<=60)].reset_index(drop=True)"
   ]
  },
  {
   "cell_type": "code",
   "execution_count": 12,
   "id": "4ac602e3-5b64-4158-bf8e-a9db7d355a03",
   "metadata": {},
   "outputs": [],
   "source": [
    "from sklearn.feature_extraction import DictVectorizer"
   ]
  },
  {
   "cell_type": "code",
   "execution_count": 18,
   "id": "46f37287-f809-4e26-a182-7e44393e8351",
   "metadata": {},
   "outputs": [
    {
     "data": {
      "text/plain": [
       "(2423325, 515)"
      ]
     },
     "execution_count": 18,
     "metadata": {},
     "output_type": "execute_result"
    }
   ],
   "source": [
    "df_to_model = duration_no_outliers[['PULocationID', 'DOLocationID']].astype(str)\n",
    "X_train = df_to_model.to_dict('records')\n",
    "dv = DictVectorizer()\n",
    "X_train = dv.fit_transform(X_train)\n",
    "X_train.shape"
   ]
  },
  {
   "cell_type": "code",
   "execution_count": 12,
   "id": "bf30c252-2610-4219-9b1a-b00ac3187caf",
   "metadata": {},
   "outputs": [],
   "source": [
    "# df_to_model = duration_no_outliers[['PULocationID', 'DOLocationID']]"
   ]
  },
  {
   "cell_type": "code",
   "execution_count": 13,
   "id": "315c4675-6c10-484c-857c-35859af48890",
   "metadata": {},
   "outputs": [],
   "source": [
    "# X_train = pd.get_dummies(df_to_model, columns=['PULocationID', 'DOLocationID'])"
   ]
  },
  {
   "cell_type": "code",
   "execution_count": 14,
   "id": "9ac1062b-2f19-469a-afd0-2f9d4c027513",
   "metadata": {},
   "outputs": [],
   "source": [
    "# X = one_hot_encoded_data.to_numpy()"
   ]
  },
  {
   "cell_type": "code",
   "execution_count": 15,
   "id": "9715b6b3-88e3-4180-a710-8b425132c542",
   "metadata": {},
   "outputs": [],
   "source": [
    "# from sklearn.preprocessing import OneHotEncoder"
   ]
  },
  {
   "cell_type": "code",
   "execution_count": 16,
   "id": "6f578f32-52f4-47b9-a76f-8a7d0f743ea5",
   "metadata": {},
   "outputs": [],
   "source": [
    "# X = df_to_model.to_numpy()\n",
    "# enc = OneHotEncoder(handle_unknown='ignore')"
   ]
  },
  {
   "cell_type": "code",
   "execution_count": 17,
   "id": "dc887520-f519-4f9c-be33-0e2b3a1359cc",
   "metadata": {},
   "outputs": [],
   "source": [
    "# enc.fit(X)"
   ]
  },
  {
   "cell_type": "code",
   "execution_count": 18,
   "id": "ed478ed7-943f-4054-9eb4-2230db17bcc9",
   "metadata": {},
   "outputs": [],
   "source": [
    "# X_out = enc.transform(X).toarray()"
   ]
  },
  {
   "cell_type": "code",
   "execution_count": 19,
   "id": "32f91f8c-f5b0-4ea5-a729-f23b8dea2ed0",
   "metadata": {},
   "outputs": [],
   "source": [
    "# X_out.shape"
   ]
  },
  {
   "cell_type": "code",
   "execution_count": 19,
   "id": "28338363-1868-424d-b266-35c81afadefa",
   "metadata": {},
   "outputs": [],
   "source": [
    "from sklearn.linear_model import LinearRegression"
   ]
  },
  {
   "cell_type": "code",
   "execution_count": 20,
   "id": "98da00b4-3dd0-42d9-a12a-c98eb86e3835",
   "metadata": {},
   "outputs": [],
   "source": [
    "y_train = duration_no_outliers.duration"
   ]
  },
  {
   "cell_type": "code",
   "execution_count": 21,
   "id": "fe18fabe-749b-4ca6-9840-2f9a2ca26cbf",
   "metadata": {},
   "outputs": [],
   "source": [
    "# from sklearn.model_selection import train_test_split"
   ]
  },
  {
   "cell_type": "code",
   "execution_count": 22,
   "id": "ddb23b6b-bdaa-4fa1-a905-7d2946798c12",
   "metadata": {},
   "outputs": [],
   "source": [
    "# X_train, X_test, y_train, y_test = train_test_split(X, y, test_size=0.2, random_state=42)"
   ]
  },
  {
   "cell_type": "code",
   "execution_count": 23,
   "id": "a735d028-7bde-4153-9e09-9917e0167c7c",
   "metadata": {},
   "outputs": [],
   "source": [
    "lr = LinearRegression()"
   ]
  },
  {
   "cell_type": "code",
   "execution_count": 24,
   "id": "18af9ed8-e98e-4538-9832-6b0a77866830",
   "metadata": {},
   "outputs": [
    {
     "data": {
      "text/plain": [
       "LinearRegression()"
      ]
     },
     "execution_count": 24,
     "metadata": {},
     "output_type": "execute_result"
    }
   ],
   "source": [
    "lr.fit(X_train, y_train)"
   ]
  },
  {
   "cell_type": "code",
   "execution_count": 25,
   "id": "ecbdef77-fb0a-4776-ae36-bf071f9dfd0d",
   "metadata": {},
   "outputs": [],
   "source": [
    "y_pred_train = lr.predict(X_train)"
   ]
  },
  {
   "cell_type": "code",
   "execution_count": 26,
   "id": "057c28e4-cd45-4e14-93ae-3f89587ba6f6",
   "metadata": {},
   "outputs": [],
   "source": [
    "from sklearn.metrics import mean_squared_error\n",
    "\n",
    "out = mean_squared_error(y_train, y_pred_train, squared=False)"
   ]
  },
  {
   "cell_type": "code",
   "execution_count": 27,
   "id": "b961776e-bb08-4281-9c8c-69ee7d82674c",
   "metadata": {},
   "outputs": [
    {
     "data": {
      "text/plain": [
       "7.016720167589602"
      ]
     },
     "execution_count": 27,
     "metadata": {},
     "output_type": "execute_result"
    }
   ],
   "source": [
    "out"
   ]
  },
  {
   "cell_type": "code",
   "execution_count": 39,
   "id": "143c5e00-00c1-41cd-b131-a3bd2e40135f",
   "metadata": {},
   "outputs": [],
   "source": [
    "df_feb = pd.read_parquet(\"yellow_tripdata_2022-02.parquet\")"
   ]
  },
  {
   "cell_type": "code",
   "execution_count": 40,
   "id": "0eaa2bc9-672d-433e-8e47-bd925948def2",
   "metadata": {},
   "outputs": [],
   "source": [
    "duration = (df_feb.tpep_dropoff_datetime - df_feb.tpep_pickup_datetime)\n",
    "duration = duration.astype('timedelta64[m]')\n",
    "df_feb[\"duration\"] = duration\n",
    "df_feb = df_feb[(df_feb.duration >= 1)&(df_feb.duration<=60)].reset_index(drop=True)"
   ]
  },
  {
   "cell_type": "code",
   "execution_count": 41,
   "id": "2903cd7a-f39d-48b5-a04d-8af9ffb6073d",
   "metadata": {},
   "outputs": [],
   "source": [
    "y_test = df_feb[\"duration\"]"
   ]
  },
  {
   "cell_type": "code",
   "execution_count": 42,
   "id": "8ce92ed4-a627-40ed-a836-11186f0583e7",
   "metadata": {},
   "outputs": [],
   "source": [
    "df_test = df_feb[['PULocationID', 'DOLocationID']].astype(str)\n",
    "X_test = df_test.to_dict('records')\n",
    "X_test = dv.transform(X_test)"
   ]
  },
  {
   "cell_type": "code",
   "execution_count": 43,
   "id": "b7316d63-6da4-499c-bb8e-d4c63c47ad5c",
   "metadata": {},
   "outputs": [],
   "source": [
    "y_pred = lr.predict(X_test)"
   ]
  },
  {
   "cell_type": "code",
   "execution_count": 44,
   "id": "a6f9194b-efb4-4f8d-8606-1f420bcbac83",
   "metadata": {},
   "outputs": [],
   "source": [
    "t_out = mean_squared_error(y_test, y_pred, squared=False)"
   ]
  },
  {
   "cell_type": "code",
   "execution_count": 45,
   "id": "14212923-6a5f-49b3-8071-0715096eefe7",
   "metadata": {},
   "outputs": [
    {
     "data": {
      "text/plain": [
       "7.827331372695682"
      ]
     },
     "execution_count": 45,
     "metadata": {},
     "output_type": "execute_result"
    }
   ],
   "source": [
    "t_out"
   ]
  },
  {
   "cell_type": "code",
   "execution_count": null,
   "id": "4ec62b28-8543-4f1e-8a05-f2e1aa1994e1",
   "metadata": {},
   "outputs": [],
   "source": []
  }
 ],
 "metadata": {
  "kernelspec": {
   "display_name": "kacper-env",
   "language": "python",
   "name": "kacper-env"
  },
  "language_info": {
   "codemirror_mode": {
    "name": "ipython",
    "version": 3
   },
   "file_extension": ".py",
   "mimetype": "text/x-python",
   "name": "python",
   "nbconvert_exporter": "python",
   "pygments_lexer": "ipython3",
   "version": "3.8.16"
  }
 },
 "nbformat": 4,
 "nbformat_minor": 5
}
